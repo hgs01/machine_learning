{
 "cells": [
  {
   "cell_type": "code",
   "execution_count": 1,
   "metadata": {},
   "outputs": [],
   "source": [
    "# join Normal density and regression\n",
    "import numpy as np\n",
    "from scipy import stats\n",
    "from scipy.stats import multivariate_normal as mvnorm\n",
    "from matplotlib import pyplot as plt\n",
    "\n",
    "# %matplotlib inline"
   ]
  },
  {
   "cell_type": "code",
   "execution_count": 2,
   "metadata": {},
   "outputs": [],
   "source": [
    "np.random.seed(1024)"
   ]
  },
  {
   "cell_type": "code",
   "execution_count": 3,
   "metadata": {},
   "outputs": [],
   "source": [
    "sigma = np.array([2,1,1,3]).reshape(2,2)\n",
    "mux, muy = 0,0\n",
    "mu = np.array([mux, muy])\n",
    "rv = mvnorm(mu, sigma)"
   ]
  },
  {
   "cell_type": "code",
   "execution_count": 4,
   "metadata": {},
   "outputs": [
    {
     "data": {
      "text/plain": [
       "array([[ 0.6, -0.2],\n",
       "       [-0.2,  0.4]])"
      ]
     },
     "execution_count": 4,
     "metadata": {},
     "output_type": "execute_result"
    }
   ],
   "source": [
    "sigma_inv = np.linalg.inv(sigma)\n",
    "sigma_inv"
   ]
  },
  {
   "cell_type": "code",
   "execution_count": 5,
   "metadata": {},
   "outputs": [
    {
     "name": "stdout",
     "output_type": "stream",
     "text": [
      "[1.38196601 3.61803399]\n",
      "[[-0.85065081 -0.52573111]\n",
      " [ 0.52573111 -0.85065081]]\n"
     ]
    },
    {
     "data": {
      "text/plain": [
       "array([[1., 1.],\n",
       "       [1., 1.]])"
      ]
     },
     "execution_count": 5,
     "metadata": {},
     "output_type": "execute_result"
    }
   ],
   "source": [
    "# principal component is the largest eigen vector\n",
    "# eigenvalue decomposition:  sigma = v @ np.diag(w) @ v.T \n",
    "# note:  A @ B is matrix product\n",
    "w, v = np.linalg.eig(sigma)\n",
    "\n",
    "print(w)\n",
    "print(v)\n",
    "(v @ np.diag(w) @ v.T) / sigma  # check"
   ]
  },
  {
   "cell_type": "code",
   "execution_count": 6,
   "metadata": {},
   "outputs": [
    {
     "data": {
      "text/plain": [
       "array([1., 1.])"
      ]
     },
     "execution_count": 6,
     "metadata": {},
     "output_type": "execute_result"
    }
   ],
   "source": [
    "# eigen vectors\n",
    "v0 = v[:,0]\n",
    "v1 = v[:,1]\n",
    "(v0 @ sigma) / (w[0] * v0)\n",
    "(v1 @ sigma) / (w[1] * v1) "
   ]
  },
  {
   "cell_type": "code",
   "execution_count": null,
   "metadata": {},
   "outputs": [],
   "source": [
    "np.all((v0 @ v1) == 0)  # v0, v1 are orthogonal"
   ]
  },
  {
   "cell_type": "code",
   "execution_count": 7,
   "metadata": {},
   "outputs": [],
   "source": [
    "def conditional_pdf(x, mux, muy, sigma):\n",
    "    \"\"\"pdf(y|x) ~ N(mean, var)\"\"\"\n",
    "    mean = muy + sigma[1,0] /sigma[0,0] * (x - mux)\n",
    "    var = sigma[1,1] - sigma[1,0] /sigma[0,0] * sigma[0,1]\n",
    "    return mean, var\n",
    "\n",
    "def conditional_mean(u, mux, muy, sigma, option = 'y|x'):\n",
    "    \"\"\" E(y|x) or E(x|y: regression in bivariate normal\"\"\"\n",
    "    sig_xx = sigma[0,0]\n",
    "    sig_yy = sigma[1,1]\n",
    "    sig_xy = sigma[0,1]\n",
    "    sig_yx = sigma[1,0]\n",
    "    if option == 'x|y':\n",
    "        fit = mux + sig_xy / sig_yy * (u - muy)\n",
    "    else:\n",
    "        fit = muy + sig_yx / sig_xx * (u - mux)\n",
    "\n",
    "    return fit"
   ]
  },
  {
   "cell_type": "code",
   "execution_count": 8,
   "metadata": {},
   "outputs": [
    {
     "data": {
      "text/plain": [
       "[-1.5, -1.0, -0.5, 0.0, 0.5, 1.0, 1.5]"
      ]
     },
     "execution_count": 8,
     "metadata": {},
     "output_type": "execute_result"
    }
   ],
   "source": [
    "# conditional_pdf(1, 0, 0, sigma)\n",
    "gridx = np.arange(-3, 4)\n",
    "[conditional_mean(u, 0, 0, sigma) for u in gridx]"
   ]
  },
  {
   "cell_type": "code",
   "execution_count": 9,
   "metadata": {},
   "outputs": [
    {
     "data": {
      "text/plain": [
       "[0.5, 0.3333333333333333]"
      ]
     },
     "execution_count": 9,
     "metadata": {},
     "output_type": "execute_result"
    }
   ],
   "source": [
    "[conditional_mean(1,0,0,sigma, 'y|x'), conditional_mean(1,0,0,sigma, 'x|y')]"
   ]
  },
  {
   "cell_type": "code",
   "execution_count": 10,
   "metadata": {},
   "outputs": [],
   "source": [
    "x, y = np.mgrid[-6:6:.01, -6:6:.01]\n",
    "pos = np.empty(x.shape + (2,)) \n",
    "pos[:,:,0] = x\n",
    "pos[:,:,1] = y"
   ]
  },
  {
   "cell_type": "code",
   "execution_count": 12,
   "metadata": {
    "scrolled": false
   },
   "outputs": [
    {
     "data": {
      "image/png": "[encoded data removed]",
      "text/plain": [
       "<Figure size 360x360 with 1 Axes>"
      ]
     },
     "metadata": {},
     "output_type": "display_data"
    }
   ],
   "source": [
    "# plot x,y in same scale to demonstrate the othrogonality of the two principal components\n",
    "plt.figure(figsize=(5,5))  \n",
    "plt.contour(x,y, rv.pdf(pos), [.005])\n",
    "\n",
    "# regression line y|x = m(x)\n",
    "gridx = np.arange(-4,5)\n",
    "fity = [conditional_mean(u, mux, muy, sigma, 'y|x') for u in gridx]\n",
    "\n",
    "# regression line x/y = m(y)\n",
    "gridy = np.arange(-5,6)\n",
    "fitx = [conditional_mean(u, mux, muy, sigma, 'x|y') for u in gridy]\n",
    "\n",
    "# principal component 1,2 (order by eigen value)\n",
    "xy1 = np.array([v1 * u + [mux, muy] for u in np.arange(-6,6)])\n",
    "xy0 = np.array([v0 * u + [mux, muy] for u in np.arange(-3,4)])\n",
    "\n",
    "\n",
    "plt.plot(xy1[:,0], xy1[:,1])\n",
    "plt.plot(xy0[:,0], xy0[:,1])\n",
    "plt.plot(gridx, fity)\n",
    "plt.plot(fitx, gridy)\n",
    "plt.legend(['PC1', 'PC2', 'E(y|x)', 'E(x|y)'])\n",
    "\n",
    "plt.show()"
   ]
  },
  {
   "cell_type": "code",
   "execution_count": 16,
   "metadata": {},
   "outputs": [
    {
     "data": {
      "text/plain": [
       "[0.4376154638097368, 0.09305271909309976]"
      ]
     },
     "execution_count": 16,
     "metadata": {},
     "output_type": "execute_result"
    }
   ],
   "source": [
    "rv = mvnorm(mu, sigma)\n",
    "sim_data = rv.rvs(200)\n",
    "slope, intercept,_,_,_ = stats.linregress(sim_data)\n",
    "# stats.linregress(a[:,0], a[:,1])\n",
    "[slope, intercept]"
   ]
  },
  {
   "cell_type": "code",
   "execution_count": 17,
   "metadata": {},
   "outputs": [
    {
     "data": {
      "text/plain": [
       "LinregressResult(slope=0.4376154638097368, intercept=0.09305271909309976, rvalue=0.36751415045405006, pvalue=8.63218338890358e-08, stderr=0.07870046904913623)"
      ]
     },
     "execution_count": 17,
     "metadata": {},
     "output_type": "execute_result"
    }
   ],
   "source": [
    "stats.linregress(sim_data)"
   ]
  },
  {
   "cell_type": "code",
   "execution_count": 18,
   "metadata": {},
   "outputs": [
    {
     "data": {
      "text/plain": [
       "[0.004826491636401566, 0.09516486646913747]"
      ]
     },
     "execution_count": 18,
     "metadata": {},
     "output_type": "execute_result"
    }
   ],
   "source": [
    "sigma_bar = np.cov(sim_data.T)\n",
    "xbar, ybar = np.mean(sim_data, axis=0)\n",
    "[xbar, ybar]"
   ]
  },
  {
   "cell_type": "code",
   "execution_count": 19,
   "metadata": {},
   "outputs": [
    {
     "data": {
      "text/plain": [
       "[0.4376154638097368, 0.4376154638097369]"
      ]
     },
     "execution_count": 19,
     "metadata": {},
     "output_type": "execute_result"
    }
   ],
   "source": [
    "# lsfit y = a + bx and E(y|x) from pdf should agree.\n",
    "[slope, conditional_mean(1, 0, 0, np.cov(sim_data.T))]"
   ]
  },
  {
   "cell_type": "code",
   "execution_count": 20,
   "metadata": {},
   "outputs": [
    {
     "data": {
      "text/plain": [
       "(array([1.59991239, 3.74314814]), array([[-0.84582931, -0.53345363],\n",
       "        [ 0.53345363, -0.84582931]]))"
      ]
     },
     "execution_count": 20,
     "metadata": {},
     "output_type": "execute_result"
    }
   ],
   "source": [
    "np.linalg.eig(sigma_bar)"
   ]
  },
  {
   "cell_type": "code",
   "execution_count": 21,
   "metadata": {},
   "outputs": [
    {
     "data": {
      "text/plain": [
       "[<matplotlib.lines.Line2D at 0x7f8a00f2ee48>]"
      ]
     },
     "execution_count": 21,
     "metadata": {},
     "output_type": "execute_result"
    },
    {
     "data": {
      "image/png": "[encoded data removed]",
      "text/plain": [
       "<Figure size 360x360 with 1 Axes>"
      ]
     },
     "metadata": {},
     "output_type": "display_data"
    }
   ],
   "source": [
    "yfit_ls = [slope * u + intercept for u in sim_data[:,0]]\n",
    "yfit_pdf = [conditional_mean(u,xbar,ybar,sigma_bar) for u in sim_data[:,0]]\n",
    "#\n",
    "plt.figure(figsize = (5,5))\n",
    "plt.xlim(-6,6)\n",
    "plt.ylim(-6,6)\n",
    "plt.plot(sim_data[:,0], sim_data[:,1], '.')\n",
    "plt.plot(sim_data[:,0], yfit_ls)\n",
    "plt.plot(sim_data[:,0], yfit_pdf, 'b')"
   ]
  },
  {
   "cell_type": "code",
   "execution_count": 22,
   "metadata": {},
   "outputs": [
    {
     "data": {
      "text/plain": [
       "array([[2.20981895, 0.96705094],\n",
       "       [0.96705094, 3.13324158]])"
      ]
     },
     "execution_count": 22,
     "metadata": {},
     "output_type": "execute_result"
    }
   ],
   "source": [
    "np.cov(sim_data[:,0], sim_data[:,1])"
   ]
  },
  {
   "cell_type": "code",
   "execution_count": 23,
   "metadata": {},
   "outputs": [],
   "source": [
    "# try sklearn\n",
    "from sklearn.linear_model import LinearRegression as LR"
   ]
  },
  {
   "cell_type": "code",
   "execution_count": 24,
   "metadata": {},
   "outputs": [
    {
     "data": {
      "text/plain": [
       "[0.4376154638097373,\n",
       " 0.09305271909309976,\n",
       " 0.4376154638097368,\n",
       " 0.09305271909309976]"
      ]
     },
     "execution_count": 24,
     "metadata": {},
     "output_type": "execute_result"
    }
   ],
   "source": [
    "x = sim_data[:,0]\n",
    "y = sim_data[:,1]\n",
    "model = LR()\n",
    "model.fit(x[:, np.newaxis], y)\n",
    "xfit = np.linspace(-4,4, 100)\n",
    "yfit = model.predict(xfit[:,np.newaxis])\n",
    "[model.coef_[0], model.intercept_, slope, intercept]"
   ]
  },
  {
   "cell_type": "code",
   "execution_count": 25,
   "metadata": {},
   "outputs": [
    {
     "data": {
      "image/png": "[encoded data removed]",
      "text/plain": [
       "<Figure size 432x288 with 1 Axes>"
      ]
     },
     "metadata": {},
     "output_type": "display_data"
    }
   ],
   "source": [
    "plt.scatter(x,y)\n",
    "plt.plot(xfit, yfit, 'r')\n",
    "plt.show()"
   ]
  },
  {
   "cell_type": "code",
   "execution_count": null,
   "metadata": {},
   "outputs": [],
   "source": []
  }
 ],
 "metadata": {
  "kernelspec": {
   "display_name": "eda_env_py36",
   "language": "python",
   "name": "eda_env_py36"
  },
  "language_info": {
   "codemirror_mode": {
    "name": "ipython",
    "version": 3
   },
   "file_extension": ".py",
   "mimetype": "text/x-python",
   "name": "python",
   "nbconvert_exporter": "python",
   "pygments_lexer": "ipython3",
   "version": "3.6.3"
  }
 },
 "nbformat": 4,
 "nbformat_minor": 2
}
