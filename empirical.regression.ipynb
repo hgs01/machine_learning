{
 "cells": [
  {
   "cell_type": "code",
   "execution_count": 1,
   "metadata": {},
   "outputs": [],
   "source": [
    "# join Normal density and regression\n",
    "import numpy as np\n",
    "from scipy import stats\n",
    "from scipy.stats import multivariate_normal as mvnorm\n",
    "from matplotlib import pyplot as plt\n",
    "from sklearn.linear_model import LinearRegression as LR\n",
    "# %matplotlib inline"
   ]
  },
  {
   "cell_type": "code",
   "execution_count": 2,
   "metadata": {},
   "outputs": [],
   "source": [
    "def conditional_pdf(x, mux, muy, sigma):\n",
    "    \"\"\"pdf(y|x) ~ N(mean, var)\"\"\"\n",
    "    mean = muy + sigma[1,0] /sigma[0,0] * (x - mux)\n",
    "    var = sigma[1,1] - sigma[1,0] /sigma[0,0] * sigma[0,1]\n",
    "    return mean, var\n",
    "\n",
    "def conditional_mean(u, mux, muy, sigma, option = 'y|x'):\n",
    "    \"\"\" E(y|x) or E(x|y: regression in bivariate normal\"\"\"\n",
    "    sig_xx = sigma[0,0]\n",
    "    sig_yy = sigma[1,1]\n",
    "    sig_xy = sigma[0,1]\n",
    "    sig_yx = sigma[1,0]\n",
    "    if option == 'x|y':\n",
    "        fit = mux + sig_xy / sig_yy * (u - muy)\n",
    "    else:\n",
    "        fit = muy + sig_yx / sig_xx * (u - mux)\n",
    "\n",
    "    return fit"
   ]
  },
  {
   "cell_type": "code",
   "execution_count": 3,
   "metadata": {},
   "outputs": [],
   "source": [
    "sigma = np.array([2,1,1,3]).reshape(2,2)\n",
    "mux, muy = 0,0\n",
    "mu = np.array([mux, muy])\n",
    "rv = mvnorm(mu, sigma)"
   ]
  },
  {
   "cell_type": "code",
   "execution_count": 4,
   "metadata": {},
   "outputs": [],
   "source": [
    "x, y = np.mgrid[-6:6:.01, -6:6:.01]\n",
    "pos = np.empty(x.shape + (2,)) \n",
    "pos[:,:,0] = x\n",
    "pos[:,:,1] = y"
   ]
  },
  {
   "cell_type": "code",
   "execution_count": 5,
   "metadata": {},
   "outputs": [
    {
     "name": "stdout",
     "output_type": "stream",
     "text": [
      "[1.38196601 3.61803399]\n",
      "[[-0.85065081 -0.52573111]\n",
      " [ 0.52573111 -0.85065081]]\n"
     ]
    },
    {
     "data": {
      "text/plain": [
       "array([[1., 1.],\n",
       "       [1., 1.]])"
      ]
     },
     "execution_count": 5,
     "metadata": {},
     "output_type": "execute_result"
    }
   ],
   "source": [
    "# principal component is the largest eigen vector\n",
    "# eigenvalue decomposition:  sigma = v @ np.diag(w) @ v.T \n",
    "# note:  A @ B is matrix product\n",
    "w, v = np.linalg.eig(sigma)\n",
    "\n",
    "print(w)\n",
    "print(v)\n",
    "(v @ np.diag(w) @ v.T) / sigma  # check"
   ]
  },
  {
   "cell_type": "code",
   "execution_count": 6,
   "metadata": {},
   "outputs": [
    {
     "data": {
      "text/plain": [
       "True"
      ]
     },
     "execution_count": 6,
     "metadata": {},
     "output_type": "execute_result"
    }
   ],
   "source": [
    "# eigen vectors\n",
    "v0 = v[:,0]\n",
    "v1 = v[:,1]\n",
    "(v0 @ sigma) / (w[0] * v0)\n",
    "(v1 @ sigma) / (w[1] * v1) \n",
    "np.all((v0 @ v1) == 0)  # v0, v1 are orthogonal"
   ]
  },
  {
   "cell_type": "code",
   "execution_count": 7,
   "metadata": {
    "scrolled": false
   },
   "outputs": [
    {
     "data": {
      "image/png": "[encoded data removed]",
      "text/plain": [
       "<Figure size 360x360 with 1 Axes>"
      ]
     },
     "metadata": {},
     "output_type": "display_data"
    }
   ],
   "source": [
    "# plot x,y in same scale to demonstrate the othrogonality of the two principal components\n",
    "plt.figure(figsize=(5,5))  \n",
    "plt.contour(x,y, rv.pdf(pos), [.005])\n",
    "\n",
    "# regression line y|x = m(x)\n",
    "gridx = np.arange(-4,5)\n",
    "fity = [conditional_mean(u, mux, muy, sigma, 'y|x') for u in gridx]\n",
    "\n",
    "# regression line x/y = m(y)\n",
    "gridy = np.arange(-5,6)\n",
    "fitx = [conditional_mean(u, mux, muy, sigma, 'x|y') for u in gridy]\n",
    "\n",
    "# principal component 1,2 (order by eigen value)\n",
    "xy1 = np.array([v1 * u + [mux, muy] for u in np.arange(-6,6)])\n",
    "xy0 = np.array([v0 * u + [mux, muy] for u in np.arange(-3,4)])\n",
    "\n",
    "\n",
    "plt.plot(xy1[:,0], xy1[:,1])\n",
    "plt.plot(xy0[:,0], xy0[:,1])\n",
    "plt.plot(gridx, fity)\n",
    "plt.plot(fitx, gridy)\n",
    "plt.legend(['PC1', 'PC2', 'E(y|x)', 'E(x|y)'])\n",
    "\n",
    "plt.show()"
   ]
  },
  {
   "cell_type": "code",
   "execution_count": 8,
   "metadata": {},
   "outputs": [],
   "source": [
    "def empirical_regression(x, y):\n",
    "    \"\"\"\n",
    "    empirical regression y|x = m(x) derived from join pdf p(x,y)     \n",
    "    \"\"\"\n",
    "    mux = np.mean(x)\n",
    "    muy = np.mean(y)\n",
    "    var_matrix = np.cov(x, y)\n",
    "    sig_yx = var_matrix[1,0]\n",
    "    sig_xx = var_matrix[0,0]\n",
    "    \n",
    "    slope = sig_yx / sig_xx\n",
    "    intercept = muy - slope * mux\n",
    "    model = lambda u: muy + slope * (u - mux)\n",
    "    return slope, intercept, model"
   ]
  },
  {
   "cell_type": "code",
   "execution_count": 9,
   "metadata": {},
   "outputs": [
    {
     "data": {
      "text/plain": [
       "[<matplotlib.lines.Line2D at 0x7f1cfb3402b0>]"
      ]
     },
     "execution_count": 9,
     "metadata": {},
     "output_type": "execute_result"
    },
    {
     "data": {
      "image/png": "[encoded data removed]",
      "text/plain": [
       "<Figure size 432x288 with 1 Axes>"
      ]
     },
     "metadata": {},
     "output_type": "display_data"
    }
   ],
   "source": [
    "rv = mvnorm(mu, sigma)\n",
    "sim_data = rv.rvs(200)\n",
    "\n",
    "x = sim_data[:,0]\n",
    "y = sim_data[:,1]\n",
    "\n",
    "slope, intercept, mod1 = empirical_regression(x, y)\n",
    "\n",
    "yfit = [mod1(u) for u in x]\n",
    "\n",
    "plt.scatter(x,y)\n",
    "plt.plot(x, yfit, 'r')\n",
    "\n",
    "mod2 = LR()\n",
    "mod2.fit(x[:,np.newaxis], y)\n",
    "yfit2 = mod2.predict(x[:,np.newaxis])\n",
    "plt.plot(x, yfit2,'g')"
   ]
  },
  {
   "cell_type": "code",
   "execution_count": 10,
   "metadata": {},
   "outputs": [
    {
     "data": {
      "text/plain": [
       "[-0.027301382254125445,\n",
       " -0.027301382254125487,\n",
       " 0.5211926072364982,\n",
       " 0.5211926072364986]"
      ]
     },
     "execution_count": 10,
     "metadata": {},
     "output_type": "execute_result"
    }
   ],
   "source": [
    "# compare empirical_regression() vs sklearn.linear_model\n",
    "coef, intercept, model_emp = empirical_regression(x,y)\n",
    "#\n",
    "model_ls = LR()\n",
    "model_ls.fit(x[:, np.newaxis], y)\n",
    "[model_ls.intercept_, intercept, model_ls.coef_[0], coef]"
   ]
  },
  {
   "cell_type": "code",
   "execution_count": 11,
   "metadata": {},
   "outputs": [
    {
     "data": {
      "text/plain": [
       "LinregressResult(slope=0.5211926072364986, intercept=-0.027301382254125487, rvalue=0.42532311366857717, pvalue=3.430633340400861e-10, stderr=0.07881614627921672)"
      ]
     },
     "execution_count": 11,
     "metadata": {},
     "output_type": "execute_result"
    }
   ],
   "source": [
    "stats.linregress(sim_data)"
   ]
  },
  {
   "cell_type": "code",
   "execution_count": 12,
   "metadata": {},
   "outputs": [
    {
     "data": {
      "text/plain": [
       "[0.5211926072364986, 0.5211926072364986]"
      ]
     },
     "execution_count": 12,
     "metadata": {},
     "output_type": "execute_result"
    }
   ],
   "source": [
    "# lsfit y = a + bx and E(y|x) from pdf should agree.\n",
    "[slope, conditional_mean(1, 0, 0, np.cov(sim_data.T))]"
   ]
  },
  {
   "cell_type": "code",
   "execution_count": null,
   "metadata": {},
   "outputs": [],
   "source": []
  }
 ],
 "metadata": {
  "kernelspec": {
   "display_name": "eda_env_py36",
   "language": "python",
   "name": "eda_env_py36"
  },
  "language_info": {
   "codemirror_mode": {
    "name": "ipython",
    "version": 3
   },
   "file_extension": ".py",
   "mimetype": "text/x-python",
   "name": "python",
   "nbconvert_exporter": "python",
   "pygments_lexer": "ipython3",
   "version": "3.6.3"
  }
 },
 "nbformat": 4,
 "nbformat_minor": 2
}
