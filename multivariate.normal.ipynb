{
 "cells": [
  {
   "cell_type": "code",
   "execution_count": null,
   "metadata": {},
   "outputs": [],
   "source": [
    "# join Normal density and regression\n",
    "import numpy as np\n",
    "from scipy import stats\n",
    "from scipy.stats import multivariate_normal as mvnorm\n",
    "from matplotlib import pyplot as plt\n",
    "\n",
    "# %matplotlib inline"
   ]
  },
  {
   "cell_type": "code",
   "execution_count": null,
   "metadata": {},
   "outputs": [],
   "source": [
    "np.random.seed(1024)"
   ]
  },
  {
   "cell_type": "code",
   "execution_count": null,
   "metadata": {},
   "outputs": [],
   "source": [
    "sigma = np.array([2,1,1,3]).reshape(2,2)\n",
    "mux, muy = 0,0\n",
    "mu = np.array([mux, muy])\n",
    "rv = mvnorm(mu, sigma)"
   ]
  },
  {
   "cell_type": "code",
   "execution_count": null,
   "metadata": {},
   "outputs": [],
   "source": [
    "sigma_inv = np.linalg.inv(sigma)\n",
    "sigma_inv"
   ]
  },
  {
   "cell_type": "code",
   "execution_count": null,
   "metadata": {},
   "outputs": [],
   "source": [
    "# principal component is the largest eigen vector\n",
    "# eigenvalue decomposition:  sigma = v @ np.diag(w) @ v.T \n",
    "# note:  A @ B is matrix product\n",
    "w, v = np.linalg.eig(sigma)\n",
    "\n",
    "print(w)\n",
    "print(v)\n",
    "(v @ np.diag(w) @ v.T) / sigma  # check"
   ]
  },
  {
   "cell_type": "code",
   "execution_count": null,
   "metadata": {},
   "outputs": [],
   "source": [
    "# eigen vectors\n",
    "v0 = v[:,0]\n",
    "v1 = v[:,1]\n",
    "(v0 @ sigma) / (w[0] * v0)\n",
    "(v1 @ sigma) / (w[1] * v1) "
   ]
  },
  {
   "cell_type": "code",
   "execution_count": null,
   "metadata": {},
   "outputs": [],
   "source": [
    "np.all((v0 @ v1) == 0)  # v0, v1 are orthogonal"
   ]
  },
  {
   "cell_type": "code",
   "execution_count": null,
   "metadata": {},
   "outputs": [],
   "source": [
    "def conditional_pdf(x, mux, muy, sigma):\n",
    "    \"\"\"pdf(y|x) ~ N(mean, var)\"\"\"\n",
    "    mean = muy + sigma[1,0] /sigma[0,0] * (x - mux)\n",
    "    var = sigma[1,1] - sigma[1,0] /sigma[0,0] * sigma[0,1]\n",
    "    return mean, var\n",
    "\n",
    "def conditional_mean(u, mux, muy, sigma, option = 'y|x'):\n",
    "    \"\"\" E(y|x) or E(x|y: regression in bivariate normal\"\"\"\n",
    "    sig_xx = sigma[0,0]\n",
    "    sig_yy = sigma[1,1]\n",
    "    sig_xy = sigma[0,1]\n",
    "    sig_yx = sigma[1,0]\n",
    "    if option == 'x|y':\n",
    "        fit = mux + sig_xy / sig_yy * (u - muy)\n",
    "    else:\n",
    "        fit = muy + sig_yx / sig_xx * (u - mux)\n",
    "\n",
    "    return fit"
   ]
  },
  {
   "cell_type": "code",
   "execution_count": null,
   "metadata": {},
   "outputs": [],
   "source": [
    "sigma"
   ]
  },
  {
   "cell_type": "code",
   "execution_count": null,
   "metadata": {},
   "outputs": [],
   "source": [
    "# conditional_pdf(1, 0, 0, sigma)\n",
    "gridx = np.arange(-3, 4)\n",
    "[conditional_mean(u, 0, 0, sigma) for u in gridx]"
   ]
  },
  {
   "cell_type": "code",
   "execution_count": null,
   "metadata": {},
   "outputs": [],
   "source": [
    "[conditional_mean(1,0,0,sigma, 'y|x'), conditional_mean(1,0,0,sigma, 'x|y')]"
   ]
  },
  {
   "cell_type": "code",
   "execution_count": null,
   "metadata": {},
   "outputs": [],
   "source": [
    "x, y = np.mgrid[-6:6:.01, -6:6:.01]\n",
    "pos = np.empty(x.shape + (2,)) \n",
    "pos[:,:,0] = x\n",
    "pos[:,:,1] = y"
   ]
  },
  {
   "cell_type": "code",
   "execution_count": null,
   "metadata": {
    "scrolled": false
   },
   "outputs": [],
   "source": [
    "# plot x,y in same scale to demonstrate the othrogonality of the two principal components\n",
    "plt.figure(figsize=(5,5))  \n",
    "plt.contour(x,y, rv.pdf(pos), [.005])\n",
    "\n",
    "# regression line y|x = m(x)\n",
    "gridx = np.arange(-4,5)\n",
    "fity = [conditional_mean(u, mux, muy, sigma, 'y|x') for u in gridx]\n",
    "\n",
    "# regression line x/y = m(y)\n",
    "gridy = np.arange(-5,6)\n",
    "fitx = [conditional_mean(u, mux, muy, sigma, 'x|y') for u in gridy]\n",
    "\n",
    "# principal component 1,2 (order by eigen value)\n",
    "xy1 = np.array([v1 * u + [mux, muy] for u in np.arange(-6,6)])\n",
    "xy0 = np.array([v0 * u + [mux, muy] for u in np.arange(-3,4)])\n",
    "\n",
    "\n",
    "plt.plot(xy1[:,0], xy1[:,1])\n",
    "plt.plot(xy0[:,0], xy0[:,1])\n",
    "plt.plot(gridx, fity)\n",
    "plt.plot(fitx, gridy)\n",
    "plt.legend(['PC1', 'PC2', 'E(y|x)', 'E(x|y)'])\n",
    "\n",
    "# plt.show()"
   ]
  },
  {
   "cell_type": "code",
   "execution_count": null,
   "metadata": {},
   "outputs": [],
   "source": [
    "rv = mvnorm(mu, sigma)\n",
    "sim_data = rv.rvs(200)\n",
    "slope, intercept,_,_,_ = stats.linregress(sim_data)\n",
    "# stats.linregress(a[:,0], a[:,1])\n",
    "[slope, intercept]"
   ]
  },
  {
   "cell_type": "code",
   "execution_count": null,
   "metadata": {},
   "outputs": [],
   "source": [
    "stats.linregress(sim_data)"
   ]
  },
  {
   "cell_type": "code",
   "execution_count": null,
   "metadata": {},
   "outputs": [],
   "source": [
    "sigma_bar = np.cov(sim_data.T)\n",
    "xbar, ybar = np.mean(sim_data, axis=0)\n",
    "[xbar, ybar]"
   ]
  },
  {
   "cell_type": "code",
   "execution_count": null,
   "metadata": {},
   "outputs": [],
   "source": [
    "# lsfit y = a + bx and E(y|x) from pdf should agree.\n",
    "[slope, conditional_mean(1, 0, 0, np.cov(sim_data.T))]"
   ]
  },
  {
   "cell_type": "code",
   "execution_count": null,
   "metadata": {},
   "outputs": [],
   "source": [
    "np.linalg.eig(sigma_bar)"
   ]
  },
  {
   "cell_type": "code",
   "execution_count": null,
   "metadata": {},
   "outputs": [],
   "source": [
    "yfit_ls = [slope * u + intercept for u in sim_data[:,0]]\n",
    "yfit_pdf = [conditional_mean(u,xbar,ybar,sigma_bar) for u in sim_data[:,0]]\n",
    "#\n",
    "plt.figure(figsize = (5,5))\n",
    "plt.xlim(-6,6)\n",
    "plt.ylim(-6,6)\n",
    "plt.plot(sim_data[:,0], sim_data[:,1], '.')\n",
    "plt.plot(sim_data[:,0], yfit_ls)\n",
    "plt.plot(sim_data[:,0], yfit_pdf, 'b')"
   ]
  },
  {
   "cell_type": "code",
   "execution_count": null,
   "metadata": {},
   "outputs": [],
   "source": [
    "np.cov(sim_data[:,0], sim_data[:,1])"
   ]
  },
  {
   "cell_type": "code",
   "execution_count": null,
   "metadata": {},
   "outputs": [],
   "source": [
    "# try sklearn\n",
    "from sklearn.linear_model import LinearRegression as LR"
   ]
  },
  {
   "cell_type": "code",
   "execution_count": null,
   "metadata": {},
   "outputs": [],
   "source": [
    "x = sim_data[:,0]\n",
    "y = sim_data[:,1]\n",
    "model = LR()\n",
    "model.fit(x[:, np.newaxis], y)\n",
    "xfit = np.linspace(-4,4, 100)\n",
    "yfit = model.predict(xfit[:,np.newaxis])\n",
    "[model.coef_[0], model.intercept_, slope, intercept]"
   ]
  },
  {
   "cell_type": "code",
   "execution_count": null,
   "metadata": {},
   "outputs": [],
   "source": [
    "plt.scatter(x,y)\n",
    "plt.plot(xfit, yfit, 'r')\n",
    "plt.show()"
   ]
  },
  {
   "cell_type": "code",
   "execution_count": null,
   "metadata": {},
   "outputs": [],
   "source": []
  }
 ],
 "metadata": {
  "kernelspec": {
   "display_name": "eda_env_py36",
   "language": "python",
   "name": "eda_env_py36"
  },
  "language_info": {
   "codemirror_mode": {
    "name": "ipython",
    "version": 3
   },
   "file_extension": ".py",
   "mimetype": "text/x-python",
   "name": "python",
   "nbconvert_exporter": "python",
   "pygments_lexer": "ipython3",
   "version": "3.6.3"
  }
 },
 "nbformat": 4,
 "nbformat_minor": 2
}
